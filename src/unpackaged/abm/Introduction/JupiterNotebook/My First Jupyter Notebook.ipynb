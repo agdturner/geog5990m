{
 "cells": [
  {
   "cell_type": "markdown",
   "metadata": {},
   "source": [
    "# My Notebook"
   ]
  },
  {
   "cell_type": "code",
   "execution_count": 1,
   "metadata": {},
   "outputs": [
    {
     "name": "stdout",
     "output_type": "stream",
     "text": [
      "My First Jupyter Notebook\n"
     ]
    }
   ],
   "source": [
    "print(\"My First Jupyter Notebook\")"
   ]
  },
  {
   "cell_type": "code",
   "execution_count": 2,
   "metadata": {},
   "outputs": [
    {
     "name": "stdout",
     "output_type": "stream",
     "text": [
      "Hello World\n",
      "You wonderful world!\n"
     ]
    }
   ],
   "source": [
    "print(\"Hello World\")\n",
    "print(\"You wonderful world!\")"
   ]
  },
  {
   "cell_type": "code",
   "execution_count": 3,
   "metadata": {},
   "outputs": [
    {
     "name": "stdout",
     "output_type": "stream",
     "text": [
      "test\n",
      "Once deleted, variables cannot be recovered. Proceed (y/[n])? y\n"
     ]
    },
    {
     "ename": "NameError",
     "evalue": "name 'var' is not defined",
     "output_type": "error",
     "traceback": [
      "\u001b[1;31m---------------------------------------------------------------------------\u001b[0m",
      "\u001b[1;31mNameError\u001b[0m                                 Traceback (most recent call last)",
      "\u001b[1;32m<ipython-input-3-fd64898d0c60>\u001b[0m in \u001b[0;36m<module>\u001b[1;34m()\u001b[0m\n\u001b[0;32m      7\u001b[0m \u001b[0mbut\u001b[0m \u001b[0mwill\u001b[0m \u001b[0mwork\u001b[0m \u001b[1;32min\u001b[0m \u001b[0ma\u001b[0m \u001b[0mJupyter\u001b[0m \u001b[0mNotebook\u001b[0m\u001b[0;31m!\u001b[0m\u001b[1;33m\u001b[0m\u001b[0m\n\u001b[0;32m      8\u001b[0m '''\n\u001b[1;32m----> 9\u001b[1;33m \u001b[0mprint\u001b[0m\u001b[1;33m(\u001b[0m\u001b[0mvar\u001b[0m\u001b[1;33m)\u001b[0m\u001b[1;33m\u001b[0m\u001b[0m\n\u001b[0m\u001b[0;32m     10\u001b[0m '''\n\u001b[0;32m     11\u001b[0m \u001b[0mExpecting\u001b[0m \u001b[0ma\u001b[0m \u001b[0mNameError\u001b[0m \u001b[1;32mas\u001b[0m \u001b[0mvar\u001b[0m \u001b[0mhas\u001b[0m \u001b[0mbeen\u001b[0m \u001b[0mreset\u001b[0m\u001b[0;31m!\u001b[0m\u001b[1;33m\u001b[0m\u001b[0m\n",
      "\u001b[1;31mNameError\u001b[0m: name 'var' is not defined"
     ]
    }
   ],
   "source": [
    "var = \"test\"\n",
    "print(var)\n",
    "%reset\n",
    "# Clears all the variable values.\n",
    "'''\n",
    "The preceding Magic Line will not work in a normal Python REPL environment,\n",
    "but will work in a Jupyter Notebook!\n",
    "'''\n",
    "print(var)\n",
    "'''\n",
    "Expecting a NameError as var has been reset!\n",
    "'''"
   ]
  },
  {
   "cell_type": "code",
   "execution_count": 4,
   "metadata": {},
   "outputs": [
    {
     "data": {
      "text/plain": [
       "'\\nThe preceding Magic Line will not work in a normal Python REPL environment,\\nbut will work in a Jupyter Notebook!\\n'"
      ]
     },
     "execution_count": 4,
     "metadata": {},
     "output_type": "execute_result"
    }
   ],
   "source": [
    "# Clears all the variable values.\n",
    "%reset -f\n",
    "# Resets all variables and forces this to happen with the -f option.\n",
    "'''\n",
    "The preceding Magic Line will not work in a normal Python REPL environment,\n",
    "but will work in a Jupyter Notebook!\n",
    "'''"
   ]
  },
  {
   "cell_type": "code",
   "execution_count": 5,
   "metadata": {},
   "outputs": [
    {
     "name": "stdout",
     "output_type": "stream",
     "text": [
      "test\n",
      "Once deleted, variables cannot be recovered. Proceed (y/[n])?  y\n"
     ]
    },
    {
     "ename": "NameError",
     "evalue": "name 'var' is not defined",
     "output_type": "error",
     "traceback": [
      "\u001b[1;31m---------------------------------------------------------------------------\u001b[0m",
      "\u001b[1;31mNameError\u001b[0m                                 Traceback (most recent call last)",
      "\u001b[1;32m<ipython-input-5-0e364a83e058>\u001b[0m in \u001b[0;36m<module>\u001b[1;34m()\u001b[0m\n\u001b[0;32m      7\u001b[0m \u001b[0mbut\u001b[0m \u001b[0mwill\u001b[0m \u001b[0mwork\u001b[0m \u001b[1;32min\u001b[0m \u001b[0ma\u001b[0m \u001b[0mJupyter\u001b[0m \u001b[0mNotebook\u001b[0m\u001b[0;31m!\u001b[0m\u001b[1;33m\u001b[0m\u001b[0m\n\u001b[0;32m      8\u001b[0m '''\n\u001b[1;32m----> 9\u001b[1;33m \u001b[0mprint\u001b[0m\u001b[1;33m(\u001b[0m\u001b[0mvar\u001b[0m\u001b[1;33m)\u001b[0m\u001b[1;33m\u001b[0m\u001b[0m\n\u001b[0m\u001b[0;32m     10\u001b[0m '''\n\u001b[0;32m     11\u001b[0m \u001b[0mExpecting\u001b[0m \u001b[0ma\u001b[0m \u001b[0mNameError\u001b[0m \u001b[1;32mas\u001b[0m \u001b[0mvar\u001b[0m \u001b[0mhas\u001b[0m \u001b[0mbeen\u001b[0m \u001b[0mreset\u001b[0m\u001b[0;31m!\u001b[0m\u001b[1;33m\u001b[0m\u001b[0m\n",
      "\u001b[1;31mNameError\u001b[0m: name 'var' is not defined"
     ]
    }
   ],
   "source": [
    "var = \"test\"\n",
    "print(var)\n",
    "%reset_selective var\n",
    "# resets the var variable\n",
    "'''\n",
    "The preceding Magic Line will not work in a normal Python REPL environment,\n",
    "but will work in a Jupyter Notebook!\n",
    "'''\n",
    "print(var)\n",
    "'''\n",
    "Expecting a NameError as var has been reset!\n",
    "'''\n",
    "%run model\n",
    "'''\n",
    "The preceding Magic Line will not work in a normal Python REPL environment,\n",
    "but will work in a Jupyter Notebook!\n",
    "'''"
   ]
  },
  {
   "cell_type": "code",
   "execution_count": 6,
   "metadata": {},
   "outputs": [
    {
     "name": "stdout",
     "output_type": "stream",
     "text": [
      "C:\\Users\\geoagdt\\src\\python\\geog5990m\\src\\unpackaged\\abm\\AgentBasedModelling\n",
      "The following commands were written to file `test.py`:\n",
      "print(\"My First Jupyter Notebook\")\n",
      "print(\"Hello World\")\n",
      "print(\"You wonderful world!\")\n",
      "var = \"test\"\n",
      "print(var)\n",
      "get_ipython().run_line_magic('reset', '')\n",
      "# Clears all the variable values.\n",
      "'''\n",
      "The preceding Magic Line will not work in a normal Python REPL environment,\n",
      "but will work in a Jupyter Notebook!\n",
      "'''\n",
      "print(var)\n",
      "'''\n",
      "Expecting a NameError as var has been reset!\n",
      "'''\n",
      "# Clears all the variable values.\n",
      "get_ipython().run_line_magic('reset', '-f')\n",
      "# Resets all variables and forces this to happen with the -f option.\n",
      "'''\n",
      "The preceding Magic Line will not work in a normal Python REPL environment,\n",
      "but will work in a Jupyter Notebook!\n",
      "'''\n",
      "var = \"test\"\n",
      "print(var)\n",
      "get_ipython().run_line_magic('reset_selective', 'var')\n",
      "# resets the var variable\n",
      "'''\n",
      "The preceding Magic Line will not work in a normal Python REPL environment,\n",
      "but will work in a Jupyter Notebook!\n",
      "'''\n",
      "print(var)\n",
      "'''\n",
      "Expecting a NameError as var has been reset!\n",
      "'''\n",
      "get_ipython().run_line_magic('run', 'model')\n",
      "'''\n",
      "The preceding Magic Line will not work in a normal Python REPL environment,\n",
      "but will work in a Jupyter Notebook!\n",
      "'''\n"
     ]
    },
    {
     "data": {
      "text/plain": [
       "'\\nThe preceding Magic Line will not work in a normal Python REPL environment,\\nbut will work in a Jupyter Notebook!\\n'"
      ]
     },
     "execution_count": 6,
     "metadata": {},
     "output_type": "execute_result"
    }
   ],
   "source": [
    "pwd = %pwd\n",
    "'''\n",
    "The preceding Magic Line will not work in a normal Python REPL environment,\n",
    "but will work in a Jupyter Notebook!\n",
    "'''\n",
    "print(pwd)\n",
    "filename = 'test.py' \n",
    "import os\n",
    "if os.path.exists(filename):\n",
    "    os.remove(filename)\n",
    "# Remove filename.\n",
    "'''\n",
    "The preceding Magic Line will not work in a normal Python REPL environment,\n",
    "but will work in a Jupyter Notebook!\n",
    "'''\n",
    "%save test 1-2 3 4-5\n",
    "# Saves commands 1 to 5 to test.py\n",
    "'''\n",
    "The preceding Magic Line will not work in a normal Python REPL environment,\n",
    "but will work in a Jupyter Notebook!\n",
    "'''\n"
   ]
  },
  {
   "cell_type": "code",
   "execution_count": 7,
   "metadata": {},
   "outputs": [
    {
     "data": {
      "text/plain": [
       "['My First Jupyter Notebook',\n",
       " 'Hello World',\n",
       " 'You wonderful world!',\n",
       " 'test',\n",
       " 'Traceback (most recent call last):',\n",
       " '  File \"test.py\", line 7, in <module>',\n",
       " \"    get_ipython().run_line_magic('reset', '')\",\n",
       " \"NameError: name 'get_ipython' is not defined\"]"
      ]
     },
     "execution_count": 7,
     "metadata": {},
     "output_type": "execute_result"
    }
   ],
   "source": [
    "%sx python test.py\n",
    "# Run something on the underlying operating system\n",
    "# NB. It is possible to run cells using other languages."
   ]
  },
  {
   "cell_type": "code",
   "execution_count": 8,
   "metadata": {},
   "outputs": [
    {
     "name": "stdout",
     "output_type": "stream",
     "text": [
      "10 s ± 1.37 ms per loop (mean ± std. dev. of 7 runs, 1 loop each)\n"
     ]
    }
   ],
   "source": [
    "import time\n",
    "%timeit time.sleep(10)\n",
    "# For timing how long a set of lines takes to run."
   ]
  },
  {
   "cell_type": "code",
   "execution_count": 4,
   "metadata": {},
   "outputs": [
    {
     "name": "stdout",
     "output_type": "stream",
     "text": [
      "C:\\Users\\geoagdt\\src\\python\\geog5990m\\src\\unpackaged\\abm\\AgentBasedModelling\\JupiterNotebook\\test\n",
      "C:\\Users\\geoagdt\\src\\python\\geog5990m\\src\\unpackaged\\abm\\AgentBasedModelling\\JupiterNotebook\n",
      "C:\\Users\\geoagdt\\src\\python\\geog5990m\\src\\unpackaged\\abm\\AgentBasedModelling\\JupiterNotebook\n",
      "C:\\Users\\geoagdt\n",
      "C:\\Users\\geoagdt\\src\\python\\geog5990m\\src\\unpackaged\\abm\\AgentBasedModelling\\JupiterNotebook\\test\n",
      "C:\\Users\\geoagdt\\src\\python\\geog5990m\\src\\unpackaged\\abm\\AgentBasedModelling\\JupiterNotebook\n"
     ]
    },
    {
     "data": {
      "text/plain": [
       "'\\nThere are two ways to create and move between directories, one way using Magic \\nLines and another way using os, but seamingly there is no Magic Lines way to \\ndelete a file or directory!\\n'"
      ]
     },
     "execution_count": 4,
     "metadata": {},
     "output_type": "execute_result"
    }
   ],
   "source": [
    "import os\n",
    "%pwd\n",
    "# Print present working directory\n",
    "dirname = 'test'\n",
    "if os.path.exists(dirname) == False:\n",
    "    %mkdir $dirname\n",
    "# Make a test directory if it does not already exist.\n",
    "# The $ sign is needed for Magic Lines in order to address the variable!\n",
    "%cd $dirname\n",
    "# Change to the test directory.\n",
    "%pwd\n",
    "%cd ..\n",
    "# Move to the directory containing the directory you are in. \n",
    "path = os.getcwd()\n",
    "print(path)\n",
    "# Store current working directory.\n",
    "%cd ~\n",
    "# Move to home/user directory.\n",
    "%pwd\n",
    "os.chdir(path)\n",
    "# Move to stored directory.\n",
    "%cd $dirname\n",
    "%pwd\n",
    "%cd ..\n",
    "os.rmdir(dirname)\n",
    "# Delete the dirname directory.\n",
    "os.mkdir(dirname)\n",
    "# Make the dirname directory.\n",
    "os.rmdir(dirname)\n",
    "# Delete the dirname directory.\n",
    "'''\n",
    "There are two ways to create and move between directories, one way using Magic \n",
    "Lines and another way using os, but seamingly there is no Magic Lines way to \n",
    "delete a file or directory!\n",
    "'''"
   ]
  },
  {
   "cell_type": "code",
   "execution_count": null,
   "metadata": {},
   "outputs": [],
   "source": []
  }
 ],
 "metadata": {
  "kernelspec": {
   "display_name": "Python 3",
   "language": "python",
   "name": "python3"
  },
  "language_info": {
   "codemirror_mode": {
    "name": "ipython",
    "version": 3
   },
   "file_extension": ".py",
   "mimetype": "text/x-python",
   "name": "python",
   "nbconvert_exporter": "python",
   "pygments_lexer": "ipython3",
   "version": "3.6.5"
  }
 },
 "nbformat": 4,
 "nbformat_minor": 2
}
